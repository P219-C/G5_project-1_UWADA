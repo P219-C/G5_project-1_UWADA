{
 "cells": [
  {
   "cell_type": "markdown",
   "id": "dd5fe75b",
   "metadata": {},
   "source": []
  },
  {
   "cell_type": "markdown",
   "id": "35b3fc9a",
   "metadata": {},
   "source": [
    "# Project Title: Uber Rides and weather\n",
    "\n",
    "## Team: Pablo Crespo, Victoria Wise, Trushil Patel, Steve Moss (Group 5)\n",
    "\n",
    "## Project Description: \n",
    "    - If weather plays an impact on Uber Rides in New York\n",
    "Research Questions: \n",
    "\n",
    "1  What are some findings on the commuter habits   \n",
    "\n",
    "2  Does weather impact on number of Uber Rides request  \n",
    "\n",
    "3  Time of the day that has the most Uber Rides request \n",
    "\n",
    "4  Time of the week that has the most Uber Rides reques"
   ]
  },
  {
   "cell_type": "code",
   "execution_count": null,
   "id": "6ad56d8d",
   "metadata": {},
   "outputs": [],
   "source": []
  },
  {
   "cell_type": "code",
   "execution_count": null,
   "id": "694cdc13",
   "metadata": {},
   "outputs": [],
   "source": []
  },
  {
   "cell_type": "code",
   "execution_count": null,
   "id": "bf0fddfe",
   "metadata": {},
   "outputs": [],
   "source": []
  }
 ],
 "metadata": {
  "kernelspec": {
   "display_name": "Python [conda env:PythonData] *",
   "language": "python",
   "name": "conda-env-PythonData-py"
  },
  "language_info": {
   "codemirror_mode": {
    "name": "ipython",
    "version": 3
   },
   "file_extension": ".py",
   "mimetype": "text/x-python",
   "name": "python",
   "nbconvert_exporter": "python",
   "pygments_lexer": "ipython3",
   "version": "3.7.11"
  }
 },
 "nbformat": 4,
 "nbformat_minor": 5
}
