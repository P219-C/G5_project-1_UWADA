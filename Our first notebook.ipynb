{
 "cells": [
  {
   "cell_type": "markdown",
   "id": "53eba155",
   "metadata": {},
   "source": [
    "# Project Title: Uber Rides and weather\n",
    "\n",
    "### Team: Pablo Crespo, Victoria Wise, Trushil Patel, Steve Moss (Group 5)\n",
    "\n",
    "## Project Description: \n",
    "\n",
    "#    - If weather plays an impact on Uber Rides in New York \n",
    "    \n",
    "### Research Questions: \n",
    "\n",
    "1)  What are some findings on the commuter habits   \n",
    "\n",
    "2)  Does weather impact on number of Uber Rides request  \n",
    "\n",
    "3)  Time of the day that has the most Uber Rides request \n",
    "\n",
    "4)  Time of the week that has the most Uber Rides reques"
   ]
  },
  {
   "cell_type": "code",
   "execution_count": 1,
   "id": "1b1d57c8",
   "metadata": {},
   "outputs": [],
   "source": [
    "# Dependencies\n",
    "import numpy as np\n",
    "import pandas as pd\n",
    "import matplotlib.pyplot as plt\n",
    "import requests\n",
    "import scipy.stats as st\n",
    "\n",
    "# Import API key??\n"
   ]
  },
  {
   "cell_type": "code",
   "execution_count": null,
   "id": "01101ff7",
   "metadata": {},
   "outputs": [],
   "source": []
  },
  {
   "cell_type": "markdown",
   "id": "5939746b",
   "metadata": {},
   "source": [
    "## Data compilation"
   ]
  },
  {
   "cell_type": "code",
   "execution_count": 2,
   "id": "59889c47",
   "metadata": {
    "scrolled": true
   },
   "outputs": [
    {
     "data": {
      "text/html": [
       "<div>\n",
       "<style scoped>\n",
       "    .dataframe tbody tr th:only-of-type {\n",
       "        vertical-align: middle;\n",
       "    }\n",
       "\n",
       "    .dataframe tbody tr th {\n",
       "        vertical-align: top;\n",
       "    }\n",
       "\n",
       "    .dataframe thead th {\n",
       "        text-align: right;\n",
       "    }\n",
       "</style>\n",
       "<table border=\"1\" class=\"dataframe\">\n",
       "  <thead>\n",
       "    <tr style=\"text-align: right;\">\n",
       "      <th></th>\n",
       "      <th>datetime</th>\n",
       "      <th>Vancouver</th>\n",
       "      <th>Portland</th>\n",
       "      <th>San Francisco</th>\n",
       "      <th>Seattle</th>\n",
       "      <th>Los Angeles</th>\n",
       "      <th>San Diego</th>\n",
       "      <th>Las Vegas</th>\n",
       "      <th>Phoenix</th>\n",
       "      <th>Albuquerque</th>\n",
       "      <th>...</th>\n",
       "      <th>Philadelphia</th>\n",
       "      <th>New York</th>\n",
       "      <th>Montreal</th>\n",
       "      <th>Boston</th>\n",
       "      <th>Beersheba</th>\n",
       "      <th>Tel Aviv District</th>\n",
       "      <th>Eilat</th>\n",
       "      <th>Haifa</th>\n",
       "      <th>Nahariyya</th>\n",
       "      <th>Jerusalem</th>\n",
       "    </tr>\n",
       "  </thead>\n",
       "  <tbody>\n",
       "    <tr>\n",
       "      <th>0</th>\n",
       "      <td>1/10/2012 12:00</td>\n",
       "      <td>NaN</td>\n",
       "      <td>NaN</td>\n",
       "      <td>NaN</td>\n",
       "      <td>NaN</td>\n",
       "      <td>NaN</td>\n",
       "      <td>NaN</td>\n",
       "      <td>NaN</td>\n",
       "      <td>NaN</td>\n",
       "      <td>NaN</td>\n",
       "      <td>...</td>\n",
       "      <td>NaN</td>\n",
       "      <td>NaN</td>\n",
       "      <td>NaN</td>\n",
       "      <td>NaN</td>\n",
       "      <td>NaN</td>\n",
       "      <td>NaN</td>\n",
       "      <td>309.100000</td>\n",
       "      <td>NaN</td>\n",
       "      <td>NaN</td>\n",
       "      <td>NaN</td>\n",
       "    </tr>\n",
       "    <tr>\n",
       "      <th>1</th>\n",
       "      <td>1/10/2012 13:00</td>\n",
       "      <td>284.630000</td>\n",
       "      <td>282.080000</td>\n",
       "      <td>289.480000</td>\n",
       "      <td>281.800000</td>\n",
       "      <td>291.870000</td>\n",
       "      <td>291.530000</td>\n",
       "      <td>293.410000</td>\n",
       "      <td>296.600000</td>\n",
       "      <td>285.120000</td>\n",
       "      <td>...</td>\n",
       "      <td>285.630000</td>\n",
       "      <td>288.220000</td>\n",
       "      <td>285.830000</td>\n",
       "      <td>287.170000</td>\n",
       "      <td>307.590000</td>\n",
       "      <td>305.470000</td>\n",
       "      <td>310.580000</td>\n",
       "      <td>304.4</td>\n",
       "      <td>304.4</td>\n",
       "      <td>303.5</td>\n",
       "    </tr>\n",
       "    <tr>\n",
       "      <th>2</th>\n",
       "      <td>1/10/2012 14:00</td>\n",
       "      <td>284.629041</td>\n",
       "      <td>282.083252</td>\n",
       "      <td>289.474993</td>\n",
       "      <td>281.797217</td>\n",
       "      <td>291.868185</td>\n",
       "      <td>291.533501</td>\n",
       "      <td>293.403141</td>\n",
       "      <td>296.608509</td>\n",
       "      <td>285.154558</td>\n",
       "      <td>...</td>\n",
       "      <td>285.663208</td>\n",
       "      <td>288.247676</td>\n",
       "      <td>285.834650</td>\n",
       "      <td>287.186092</td>\n",
       "      <td>307.590000</td>\n",
       "      <td>304.310000</td>\n",
       "      <td>310.495769</td>\n",
       "      <td>304.4</td>\n",
       "      <td>304.4</td>\n",
       "      <td>303.5</td>\n",
       "    </tr>\n",
       "    <tr>\n",
       "      <th>3</th>\n",
       "      <td>1/10/2012 15:00</td>\n",
       "      <td>284.626998</td>\n",
       "      <td>282.091866</td>\n",
       "      <td>289.460618</td>\n",
       "      <td>281.789833</td>\n",
       "      <td>291.862844</td>\n",
       "      <td>291.543355</td>\n",
       "      <td>293.392177</td>\n",
       "      <td>296.631487</td>\n",
       "      <td>285.233952</td>\n",
       "      <td>...</td>\n",
       "      <td>285.756824</td>\n",
       "      <td>288.326940</td>\n",
       "      <td>285.847789</td>\n",
       "      <td>287.231672</td>\n",
       "      <td>307.391513</td>\n",
       "      <td>304.281841</td>\n",
       "      <td>310.411539</td>\n",
       "      <td>304.4</td>\n",
       "      <td>304.4</td>\n",
       "      <td>303.5</td>\n",
       "    </tr>\n",
       "    <tr>\n",
       "      <th>4</th>\n",
       "      <td>1/10/2012 16:00</td>\n",
       "      <td>284.624955</td>\n",
       "      <td>282.100481</td>\n",
       "      <td>289.446243</td>\n",
       "      <td>281.782449</td>\n",
       "      <td>291.857503</td>\n",
       "      <td>291.553209</td>\n",
       "      <td>293.381213</td>\n",
       "      <td>296.654466</td>\n",
       "      <td>285.313345</td>\n",
       "      <td>...</td>\n",
       "      <td>285.850440</td>\n",
       "      <td>288.406203</td>\n",
       "      <td>285.860929</td>\n",
       "      <td>287.277251</td>\n",
       "      <td>307.145200</td>\n",
       "      <td>304.238015</td>\n",
       "      <td>310.327308</td>\n",
       "      <td>304.4</td>\n",
       "      <td>304.4</td>\n",
       "      <td>303.5</td>\n",
       "    </tr>\n",
       "  </tbody>\n",
       "</table>\n",
       "<p>5 rows × 37 columns</p>\n",
       "</div>"
      ],
      "text/plain": [
       "          datetime   Vancouver    Portland  San Francisco     Seattle  \\\n",
       "0  1/10/2012 12:00         NaN         NaN            NaN         NaN   \n",
       "1  1/10/2012 13:00  284.630000  282.080000     289.480000  281.800000   \n",
       "2  1/10/2012 14:00  284.629041  282.083252     289.474993  281.797217   \n",
       "3  1/10/2012 15:00  284.626998  282.091866     289.460618  281.789833   \n",
       "4  1/10/2012 16:00  284.624955  282.100481     289.446243  281.782449   \n",
       "\n",
       "   Los Angeles   San Diego   Las Vegas     Phoenix  Albuquerque  ...  \\\n",
       "0          NaN         NaN         NaN         NaN          NaN  ...   \n",
       "1   291.870000  291.530000  293.410000  296.600000   285.120000  ...   \n",
       "2   291.868185  291.533501  293.403141  296.608509   285.154558  ...   \n",
       "3   291.862844  291.543355  293.392177  296.631487   285.233952  ...   \n",
       "4   291.857503  291.553209  293.381213  296.654466   285.313345  ...   \n",
       "\n",
       "   Philadelphia    New York    Montreal      Boston   Beersheba  \\\n",
       "0           NaN         NaN         NaN         NaN         NaN   \n",
       "1    285.630000  288.220000  285.830000  287.170000  307.590000   \n",
       "2    285.663208  288.247676  285.834650  287.186092  307.590000   \n",
       "3    285.756824  288.326940  285.847789  287.231672  307.391513   \n",
       "4    285.850440  288.406203  285.860929  287.277251  307.145200   \n",
       "\n",
       "   Tel Aviv District       Eilat  Haifa  Nahariyya  Jerusalem  \n",
       "0                NaN  309.100000    NaN        NaN        NaN  \n",
       "1         305.470000  310.580000  304.4      304.4      303.5  \n",
       "2         304.310000  310.495769  304.4      304.4      303.5  \n",
       "3         304.281841  310.411539  304.4      304.4      303.5  \n",
       "4         304.238015  310.327308  304.4      304.4      303.5  \n",
       "\n",
       "[5 rows x 37 columns]"
      ]
     },
     "execution_count": 2,
     "metadata": {},
     "output_type": "execute_result"
    }
   ],
   "source": [
    "# Read in CSV files  and Create dataframe(s)\n",
    "# airport_df = pd.read_csv('../Resources/Airport_Output.csv')\n",
    "# Find and reference Input csv File from Weather folder\n",
    "City_Attrib = \"Weather/city_attributes.csv\"\n",
    "City_Hum = \"Weather/humidity.csv\"\n",
    "City_Temp = \"Weather/temperature.csv\"\n",
    "City_Wdesc = \"Weather/weather_description.csv\"\n",
    "City_WinSpe = \"Weather/wind_speed.csv\"\n",
    "\n",
    "\n",
    "# create dataframe\n",
    "City_Attrib_df = pd.read_csv(City_Attrib)\n",
    "City_Hum_df = pd.read_csv(City_Hum)\n",
    "City_Temp_df = pd.read_csv(City_Temp)\n",
    "City_Wdesc_df = pd.read_csv(City_Wdesc)\n",
    "City_WinSpe_df = pd.read_csv(City_WinSpe)\n",
    "City_Temp_df.head()"
   ]
  },
  {
   "cell_type": "code",
   "execution_count": 3,
   "id": "589524ad",
   "metadata": {
    "scrolled": true
   },
   "outputs": [
    {
     "data": {
      "text/html": [
       "<div>\n",
       "<style scoped>\n",
       "    .dataframe tbody tr th:only-of-type {\n",
       "        vertical-align: middle;\n",
       "    }\n",
       "\n",
       "    .dataframe tbody tr th {\n",
       "        vertical-align: top;\n",
       "    }\n",
       "\n",
       "    .dataframe thead th {\n",
       "        text-align: right;\n",
       "    }\n",
       "</style>\n",
       "<table border=\"1\" class=\"dataframe\">\n",
       "  <thead>\n",
       "    <tr style=\"text-align: right;\">\n",
       "      <th></th>\n",
       "      <th>datetime</th>\n",
       "      <th>New York</th>\n",
       "    </tr>\n",
       "  </thead>\n",
       "  <tbody>\n",
       "    <tr>\n",
       "      <th>0</th>\n",
       "      <td>1/10/2012 12:00</td>\n",
       "      <td>NaN</td>\n",
       "    </tr>\n",
       "    <tr>\n",
       "      <th>1</th>\n",
       "      <td>1/10/2012 13:00</td>\n",
       "      <td>288.220000</td>\n",
       "    </tr>\n",
       "    <tr>\n",
       "      <th>2</th>\n",
       "      <td>1/10/2012 14:00</td>\n",
       "      <td>288.247676</td>\n",
       "    </tr>\n",
       "    <tr>\n",
       "      <th>3</th>\n",
       "      <td>1/10/2012 15:00</td>\n",
       "      <td>288.326940</td>\n",
       "    </tr>\n",
       "    <tr>\n",
       "      <th>4</th>\n",
       "      <td>1/10/2012 16:00</td>\n",
       "      <td>288.406203</td>\n",
       "    </tr>\n",
       "    <tr>\n",
       "      <th>...</th>\n",
       "      <td>...</td>\n",
       "      <td>...</td>\n",
       "    </tr>\n",
       "    <tr>\n",
       "      <th>45248</th>\n",
       "      <td>29/11/2017 20:00</td>\n",
       "      <td>NaN</td>\n",
       "    </tr>\n",
       "    <tr>\n",
       "      <th>45249</th>\n",
       "      <td>29/11/2017 21:00</td>\n",
       "      <td>NaN</td>\n",
       "    </tr>\n",
       "    <tr>\n",
       "      <th>45250</th>\n",
       "      <td>29/11/2017 22:00</td>\n",
       "      <td>NaN</td>\n",
       "    </tr>\n",
       "    <tr>\n",
       "      <th>45251</th>\n",
       "      <td>29/11/2017 23:00</td>\n",
       "      <td>NaN</td>\n",
       "    </tr>\n",
       "    <tr>\n",
       "      <th>45252</th>\n",
       "      <td>30/11/2017 0:00</td>\n",
       "      <td>NaN</td>\n",
       "    </tr>\n",
       "  </tbody>\n",
       "</table>\n",
       "<p>45253 rows × 2 columns</p>\n",
       "</div>"
      ],
      "text/plain": [
       "               datetime    New York\n",
       "0       1/10/2012 12:00         NaN\n",
       "1       1/10/2012 13:00  288.220000\n",
       "2       1/10/2012 14:00  288.247676\n",
       "3       1/10/2012 15:00  288.326940\n",
       "4       1/10/2012 16:00  288.406203\n",
       "...                 ...         ...\n",
       "45248  29/11/2017 20:00         NaN\n",
       "45249  29/11/2017 21:00         NaN\n",
       "45250  29/11/2017 22:00         NaN\n",
       "45251  29/11/2017 23:00         NaN\n",
       "45252   30/11/2017 0:00         NaN\n",
       "\n",
       "[45253 rows x 2 columns]"
      ]
     },
     "execution_count": 3,
     "metadata": {},
     "output_type": "execute_result"
    }
   ],
   "source": [
    "# Just selecting data for NY\n",
    "NY_Temp_df=pd.DataFrame(City_Temp_df, columns=[\"datetime\",\"New York\"])\n",
    "NY_Temp_df"
   ]
  },
  {
   "cell_type": "code",
   "execution_count": 4,
   "id": "8211560e",
   "metadata": {},
   "outputs": [
    {
     "name": "stdout",
     "output_type": "stream",
     "text": [
      "<class 'pandas.core.frame.DataFrame'>\n",
      "RangeIndex: 45253 entries, 0 to 45252\n",
      "Data columns (total 2 columns):\n",
      " #   Column    Non-Null Count  Dtype  \n",
      "---  ------    --------------  -----  \n",
      " 0   datetime  45253 non-null  object \n",
      " 1   New York  44460 non-null  float64\n",
      "dtypes: float64(1), object(1)\n",
      "memory usage: 707.2+ KB\n"
     ]
    }
   ],
   "source": [
    "NY_Temp_df.info()"
   ]
  },
  {
   "cell_type": "code",
   "execution_count": null,
   "id": "d2de6c99",
   "metadata": {},
   "outputs": [],
   "source": [
    "# Breaks down here - just selecting time period of interest"
   ]
  },
  {
   "cell_type": "code",
   "execution_count": null,
   "id": "9cbc01fc",
   "metadata": {},
   "outputs": [],
   "source": [
    "NY_TempDate=NY_Temp_df.loc[(NY_Temp_df[\"datetime\"]>= 4/1/2014) &\n",
    "                           (NY_Temp_df[\"datetime\"]< 8/30/2015)\n",
    "                          ]\n",
    "NY_TempDate"
   ]
  },
  {
   "cell_type": "code",
   "execution_count": null,
   "id": "e306f691",
   "metadata": {},
   "outputs": [],
   "source": [
    "# Find and reference Input csv File from Uber folder\n",
    "Uber_XXX = \"Uber/Uberxxxxx.csv\"\n",
    "Uber_XXX = \"Uber/Uberxxxxx.csv\"\n",
    "Uber_XXX = \"Uber/Uberxxxxx.csv\"\n",
    "Uber_XXX = \"Uber/Uberxxxxx.csv\""
   ]
  },
  {
   "cell_type": "code",
   "execution_count": null,
   "id": "537558f8",
   "metadata": {},
   "outputs": [],
   "source": []
  },
  {
   "cell_type": "code",
   "execution_count": null,
   "id": "53586203",
   "metadata": {},
   "outputs": [],
   "source": [
    "# Perform API Calls???? Find an API to call?\n"
   ]
  },
  {
   "cell_type": "code",
   "execution_count": null,
   "id": "97bfb385",
   "metadata": {},
   "outputs": [],
   "source": [
    "# Review data sets\n",
    "# Identify columns to keep\n",
    "# Identify column/columns to merge on"
   ]
  },
  {
   "cell_type": "markdown",
   "id": "ab1b1769",
   "metadata": {},
   "source": [
    "## Data Cleaning "
   ]
  },
  {
   "cell_type": "code",
   "execution_count": null,
   "id": "e00e5024",
   "metadata": {},
   "outputs": [],
   "source": [
    "# Delete unwanted columns\n",
    "# any null values/duplicates\n",
    "# Split date and time - investigate split methods\n",
    "# convert kelvin to centigrade\n",
    "# binning weather description\n",
    "# any formatting / ensure numbers are stored as integers "
   ]
  },
  {
   "cell_type": "code",
   "execution_count": null,
   "id": "87ac825c",
   "metadata": {},
   "outputs": [],
   "source": [
    "# Merge data sets "
   ]
  },
  {
   "cell_type": "code",
   "execution_count": null,
   "id": "5f3b9f17",
   "metadata": {},
   "outputs": [],
   "source": [
    "# Create dataframes for analysis"
   ]
  },
  {
   "cell_type": "markdown",
   "id": "f1aa1957",
   "metadata": {},
   "source": [
    "## Data analysis\n",
    "Plotting the Data.\n",
    "\n",
    "Use proper labeling of the plots using plot titles (including date of analysis) and axes labels.\n",
    "Save the plotted figures as .pngs.\n",
    "\n",
    "##### Review matlibplot for other more funky styles of graphs other than pie- bar- and scatter????\n",
    "\n",
    "These are just suggestions below:"
   ]
  },
  {
   "cell_type": "code",
   "execution_count": null,
   "id": "e0a86228",
   "metadata": {},
   "outputs": [],
   "source": [
    "# rides vs time/date\n",
    "\n",
    "# Template for scatter plot below\n",
    "\n",
    "x_values = xxxx_df['date']\n",
    "y_values = xxxxx_df['rides'].value_counts()\n",
    "plt.scatter(x_values,y_values, \n",
    "            s=50,\n",
    "            marker=\"D\",\n",
    "            color=\"fuchsia\", \n",
    "            edgecolors=\"black\")\n",
    "\n",
    "plt.xlabel('date')\n",
    "plt.ylabel('time')\n",
    "# plt.ylim(xx, xx)\n",
    "# plt.xlim(-xx,xx)\n",
    "plt.grid(which='major', linestyle='-')\n",
    "plt.grid(which='minor', linestyle=':')\n",
    "plt.title(\"Number of rides vs date\")\n",
    "plt.xlabel(\"date\")\n",
    "plt.ylabel(\"Number of rides\")\n",
    "plt.show()\n",
    "\n"
   ]
  },
  {
   "cell_type": "code",
   "execution_count": null,
   "id": "c29ff6db",
   "metadata": {},
   "outputs": [],
   "source": [
    "# template for bar chart below\n",
    "# Set the X axis for the bar chart\n",
    "x_axis = xxxxx_df[\"Date\"].value_counts().index\n",
    "# Set the Y axis for bar chart\n",
    "y_axis =xxxx_df[\"rides\"].value_counts()\n",
    "plt.bar(x_axis,y_axis, color=(0.15, 0.15, 1.0, 1.0),  edgecolor='black')\n",
    "plt.xlabel(\"date\")\n",
    "plt.ylabel(\"Number of rides\")\n",
    "plt.title(\"Number of rides vs date\")\n",
    "plt.xticks(x_axis, rotation=90)\n",
    "plt.show()"
   ]
  },
  {
   "cell_type": "code",
   "execution_count": null,
   "id": "00c3c48d",
   "metadata": {},
   "outputs": [],
   "source": [
    "# rides vs time of day\n"
   ]
  },
  {
   "cell_type": "code",
   "execution_count": null,
   "id": "22517076",
   "metadata": {},
   "outputs": [],
   "source": [
    "# rides vs day in week\n"
   ]
  },
  {
   "cell_type": "code",
   "execution_count": null,
   "id": "3c8b2480",
   "metadata": {},
   "outputs": [],
   "source": [
    "# rides on weekdays vs weekends\n"
   ]
  },
  {
   "cell_type": "code",
   "execution_count": null,
   "id": "46ab2718",
   "metadata": {},
   "outputs": [],
   "source": [
    "# any other plots of the uber data\n"
   ]
  },
  {
   "cell_type": "code",
   "execution_count": null,
   "id": "75fc5c56",
   "metadata": {},
   "outputs": [],
   "source": [
    "# plots of the weather data\n"
   ]
  },
  {
   "cell_type": "code",
   "execution_count": null,
   "id": "51f28cab",
   "metadata": {},
   "outputs": [],
   "source": [
    "# temp vs time/date\n"
   ]
  },
  {
   "cell_type": "code",
   "execution_count": null,
   "id": "3df1eeda",
   "metadata": {},
   "outputs": [],
   "source": [
    "# humidity vs time/date\n"
   ]
  },
  {
   "cell_type": "code",
   "execution_count": null,
   "id": "58a17e4e",
   "metadata": {},
   "outputs": [],
   "source": [
    "# temperature and hunidity vs time of day\n"
   ]
  },
  {
   "cell_type": "code",
   "execution_count": null,
   "id": "937fead2",
   "metadata": {},
   "outputs": [],
   "source": [
    "# correlation of temp & humidity\n"
   ]
  },
  {
   "cell_type": "code",
   "execution_count": null,
   "id": "cf0c2f05",
   "metadata": {},
   "outputs": [],
   "source": [
    "# Temp vs rides\n"
   ]
  },
  {
   "cell_type": "code",
   "execution_count": null,
   "id": "2ed95d40",
   "metadata": {},
   "outputs": [],
   "source": [
    "# humidity vs rides\n"
   ]
  },
  {
   "cell_type": "code",
   "execution_count": null,
   "id": "aaf9190a",
   "metadata": {},
   "outputs": [],
   "source": [
    "# weather description vs uber rides\n"
   ]
  },
  {
   "cell_type": "markdown",
   "id": "3e748586",
   "metadata": {},
   "source": [
    "# Conclusions and observations"
   ]
  },
  {
   "cell_type": "code",
   "execution_count": null,
   "id": "6d68b993",
   "metadata": {},
   "outputs": [],
   "source": []
  },
  {
   "cell_type": "code",
   "execution_count": null,
   "id": "68902e5d",
   "metadata": {},
   "outputs": [],
   "source": []
  },
  {
   "cell_type": "code",
   "execution_count": null,
   "id": "db4e478a",
   "metadata": {},
   "outputs": [],
   "source": []
  }
 ],
 "metadata": {
  "kernelspec": {
   "display_name": "Python [conda env:PythonData] *",
   "language": "python",
   "name": "conda-env-PythonData-py"
  },
  "language_info": {
   "codemirror_mode": {
    "name": "ipython",
    "version": 3
   },
   "file_extension": ".py",
   "mimetype": "text/x-python",
   "name": "python",
   "nbconvert_exporter": "python",
   "pygments_lexer": "ipython3",
   "version": "3.7.11"
  }
 },
 "nbformat": 4,
 "nbformat_minor": 5
}
