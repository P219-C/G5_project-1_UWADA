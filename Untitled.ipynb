{
 "cells": [
  {
   "cell_type": "markdown",
   "id": "bfd45560",
   "metadata": {},
   "source": [
    "**project1-group5**"
   ]
  },
  {
   "cell_type": "markdown",
   "id": "5aca669f",
   "metadata": {},
   "source": [
    "# Project Title: Uber Rides and weather\n",
    "\n",
    "## Team: Pablo Crespo, Victoria Wise, Trushil Patel, Steve Moss\n",
    "\n",
    "## Project Description: \n",
    "    - If weather plays an impact on Uber Rides in New York\n",
    "Research Questions: \n",
    "\n",
    "1  What are some findings on the commuter habits   \n",
    "\n",
    "2  Does weather impact on number of Uber Rides request  \n",
    "\n",
    "3  Time of the day that has the most Uber Rides request \n",
    "\n",
    "4  Time of the week that has the most Uber Rides reques"
   ]
  },
  {
   "cell_type": "code",
   "execution_count": null,
   "id": "b3a8d1a7",
   "metadata": {},
   "outputs": [],
   "source": []
  },
  {
   "cell_type": "code",
   "execution_count": null,
   "id": "686cd37c",
   "metadata": {},
   "outputs": [],
   "source": []
  },
  {
   "cell_type": "code",
   "execution_count": null,
   "id": "ed082436",
   "metadata": {},
   "outputs": [],
   "source": []
  }
 ],
 "metadata": {
  "kernelspec": {
   "display_name": "Python [conda env:PythonData] *",
   "language": "python",
   "name": "conda-env-PythonData-py"
  },
  "language_info": {
   "codemirror_mode": {
    "name": "ipython",
    "version": 3
   },
   "file_extension": ".py",
   "mimetype": "text/x-python",
   "name": "python",
   "nbconvert_exporter": "python",
   "pygments_lexer": "ipython3",
   "version": "3.7.11"
  }
 },
 "nbformat": 4,
 "nbformat_minor": 5
}
