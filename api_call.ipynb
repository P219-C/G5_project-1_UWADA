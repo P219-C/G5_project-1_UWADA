{
 "cells": [
  {
   "cell_type": "markdown",
   "id": "e5405981",
   "metadata": {},
   "source": [
    "# Sript: API call\n",
    "## File: api_call.ipynb\n",
    "\n",
    "The script makes successive requests to the World Weather Online API (https://www.worldweatheronline.com/developer/api/historical-weather-api.aspx), based on dates for a period starting on the 1st of July of 2014 and ending on the 30th of September of 2014.\n",
    "\n",
    "The output is a data frame (weather_data) that is saved to a csv file (weather_data.csv) in the folder Data. The retrieved information consists of:\n",
    "\n",
    "- Date\n",
    "- Maximum temperature (°C)\n",
    "- Average temperature (°C)\n",
    "- Minimum temperature (°C)\n",
    "- UV Index\n",
    "- Precipitation (mm)\n",
    "- Weather description\n",
    "- Cloud cover (%)\n",
    "- Humidity (%)"
   ]
  },
  {
   "cell_type": "markdown",
   "id": "79aab539",
   "metadata": {},
   "source": [
    "### Functions:"
   ]
  },
  {
   "cell_type": "code",
   "execution_count": null,
   "id": "8d2caaa3",
   "metadata": {},
   "outputs": [],
   "source": [
    "#### USED: https://stackoverflow.com/questions/55452835/creating-a-data-set-using-an-api-with-python\n",
    "\n",
    "# Auxiliary function to format dates for API requests.\n",
    "def daterange(start_date, end_date):\n",
    "    for n in range(int ((end_date - start_date).days)):\n",
    "        yield start_date + datetime.timedelta(n)"
   ]
  },
  {
   "cell_type": "markdown",
   "id": "bfdd39d2",
   "metadata": {},
   "source": [
    "### Creating variables"
   ]
  },
  {
   "cell_type": "code",
   "execution_count": null,
   "id": "0e84cc94",
   "metadata": {},
   "outputs": [],
   "source": [
    "# API parameters\n",
    "city=\"New York\"\n",
    "start_date=\"2014-07-01\"\n",
    "end_date=\"2014-10-01\"\n",
    "date_format = \"%Y-%m-%d\"\n",
    "\n",
    "# Formatting the start and end date\n",
    "start_date = datetime.datetime.strptime(start_date, date_format)\n",
    "end_date = datetime.datetime.strptime(end_date, date_format)\n",
    "\n",
    "# Creating lists to store data from the API\n",
    "all_data = []\n",
    "date_list=[]\n",
    "maxtempC_list = []\n",
    "avgtempC_list = []\n",
    "mintempC_list = []\n",
    "uvIndex_list =[]\n",
    "precipMM_list=[]\n",
    "weatherDesc_list=[]\n",
    "cloudcover_list=[]\n",
    "humidity_list=[]"
   ]
  },
  {
   "cell_type": "markdown",
   "id": "bf4a026b",
   "metadata": {},
   "source": [
    "### API calls\n"
   ]
  },
  {
   "cell_type": "code",
   "execution_count": null,
   "id": "0667d75b",
   "metadata": {},
   "outputs": [],
   "source": [
    "print(f\"Retrieving weather information from {start_date} to {end_date}.\\n\")\n",
    "\n",
    "for each_date in daterange(start_date, end_date):\n",
    "#     print(each_date.date())\n",
    "\n",
    "    ask = str(each_date.date())\n",
    "\n",
    "    request = requests.get(\n",
    "        \"http://api.worldweatheronline.com/premium/v1/past-weather.ashx?\",\n",
    "        params=dict(\n",
    "            key=weather_api_key,\n",
    "            q=city,\n",
    "            format='json',\n",
    "            date=ask,\n",
    "            tp='24'\n",
    "        )\n",
    "    )\n",
    "    json_data = request.json()\n",
    "#     print(json_data)\n",
    "\n",
    "    all_data.append(json_data)\n",
    "    date_list.append(json_data['data']['weather'][0]['date'])\n",
    "    maxtempC_list.append(json_data['data']['weather'][0]['maxtempC'])\n",
    "    avgtempC_list.append(json_data['data']['weather'][0]['avgtempC'])\n",
    "    mintempC_list.append(json_data['data']['weather'][0]['mintempC'])\n",
    "    uvIndex_list.append(json_data['data']['weather'][0]['uvIndex'])\n",
    "    precipMM_list.append(json_data['data']['weather'][0]['hourly'][0]['precipMM'])\n",
    "    weatherDesc_list.append(json_data['data']['weather'][0]['hourly'][0]['weatherDesc'][0]['value'])\n",
    "    cloudcover_list.append(json_data['data']['weather'][0]['hourly'][0]['cloudcover'])\n",
    "    humidity_list.append(json_data['data']['weather'][0]['hourly'][0]['humidity'])\n",
    "\n",
    "    print(f\"{request}: COMPLETE ---> {json_data['data']['weather'][0]['date']}\")"
   ]
  },
  {
   "cell_type": "markdown",
   "id": "1c77defa",
   "metadata": {},
   "source": [
    "### Ensembling the weather data frame"
   ]
  },
  {
   "cell_type": "code",
   "execution_count": null,
   "id": "7b0afd18",
   "metadata": {},
   "outputs": [],
   "source": [
    "# create a data frame from date, maxtemp, avgtemp, uvIndex\n",
    "weather_dict = {\n",
    "    'date': date_list,\n",
    "    \"maxtempC\": maxtempC_list,\n",
    "    \"avgtempC\": avgtempC_list,\n",
    "    \"uvIndex\": uvIndex_list,\n",
    "    \"precipMM\":precipMM_list,\n",
    "    \"cloudcover\":cloudcover_list,\n",
    "    \"humidity\":humidity_list,\n",
    "    \"weatherDesc\":weatherDesc_list    \n",
    "}\n",
    "weather_data = pd.DataFrame(weather_dict)\n",
    "weather_data\n",
    "\n",
    "#     weather_data.info()\n",
    "\n",
    "# data3.Title = data3.Title.str.replace(',', '').astype(float).astype(int)\n",
    "for index,column in enumerate(weather_data):\n",
    "    if (index!=0) & (index!=7):\n",
    "        weather_data[column]= weather_data[column].astype(float)\n",
    "\n",
    "#     weather_data.info()\n",
    "\n",
    "# # overwriting data after changing format\n",
    "# data[\"Time\"]= pd.to_datetime(data[\"Time\"])\n",
    "# # info of data\n",
    "# data.info()\n",
    "# # display\n",
    "# data\n",
    "\n",
    "weather_data[\"date\"]=pd.to_datetime(weather_data[\"date\"])\n",
    "#     weather_data.info()"
   ]
  },
  {
   "cell_type": "markdown",
   "id": "4bea0d9f",
   "metadata": {},
   "source": [
    "### Saving the weather data frame to a csv file"
   ]
  },
  {
   "cell_type": "code",
   "execution_count": null,
   "id": "06d38ca4",
   "metadata": {},
   "outputs": [],
   "source": [
    "weather_data.to_csv(\"Data/weather_data.csv\", encoding = \"utf-8\", index = False, header = True)\n",
    "\n",
    "print(\"\\n\\n SUCCESS!!! File 'weather_data.csv' created and saved in folder 'Data'\")"
   ]
  }
 ],
 "metadata": {
  "kernelspec": {
   "display_name": "Python [conda env:bootcamp_env] *",
   "language": "python",
   "name": "conda-env-bootcamp_env-py"
  },
  "language_info": {
   "codemirror_mode": {
    "name": "ipython",
    "version": 3
   },
   "file_extension": ".py",
   "mimetype": "text/x-python",
   "name": "python",
   "nbconvert_exporter": "python",
   "pygments_lexer": "ipython3",
   "version": "3.6.13"
  }
 },
 "nbformat": 4,
 "nbformat_minor": 5
}
