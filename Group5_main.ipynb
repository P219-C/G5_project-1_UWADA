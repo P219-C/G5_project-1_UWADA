{
 "cells": [
  {
   "cell_type": "markdown",
   "id": "1b87fa1c",
   "metadata": {},
   "source": [
    "# Project Title: Uber Rides and weather\n",
    "\n",
    "### Team: Pablo Crespo, Victoria Wise, Trushil Patel, Steve Moss (Group 5)\n",
    "\n",
    "## Project Description: \n",
    "\n",
    "#    - If weather plays an impact on Uber Rides in New York \n",
    "    \n",
    "### Research Questions: \n",
    "\n",
    "1)  What are some findings on the commuter habits   \n",
    "\n",
    "2)  Does weather impact on number of Uber Rides request  \n",
    "\n",
    "3)  Time of the day that has the most Uber Rides request \n",
    "\n",
    "4)  Time of the week that has the most Uber Rides request"
   ]
  },
  {
   "cell_type": "markdown",
   "id": "25759875",
   "metadata": {},
   "source": [
    "### Importing libraries and dependencies"
   ]
  },
  {
   "cell_type": "code",
   "execution_count": 1,
   "id": "5951356b",
   "metadata": {},
   "outputs": [],
   "source": [
    "# Dependencies\n",
    "import numpy as np\n",
    "import pandas as pd\n",
    "import matplotlib.pyplot as plt\n",
    "import requests\n",
    "import scipy.stats as st\n",
    "import seaborn as sns\n",
    "import os\n",
    "import datetime\n",
    "\n",
    "# Import API key\n",
    "from weather_api import weather_api_key"
   ]
  },
  {
   "cell_type": "markdown",
   "id": "532ed8c8",
   "metadata": {},
   "source": [
    "### Weather API\n",
    "Requesting data through the Historical World Weather API or reading a file with the data if the request was previously made."
   ]
  },
  {
   "cell_type": "code",
   "execution_count": 2,
   "id": "adf772e2",
   "metadata": {},
   "outputs": [
    {
     "name": "stdout",
     "output_type": "stream",
     "text": [
      "Retrieving weather information from 2014-07-01 00:00:00 to 2014-10-01 00:00:00.\n",
      "\n",
      "<Response [200]>: COMPLETE ---> 2014-07-01\n",
      "<Response [200]>: COMPLETE ---> 2014-07-02\n",
      "<Response [200]>: COMPLETE ---> 2014-07-03\n",
      "<Response [200]>: COMPLETE ---> 2014-07-04\n",
      "<Response [200]>: COMPLETE ---> 2014-07-05\n",
      "<Response [200]>: COMPLETE ---> 2014-07-06\n",
      "<Response [200]>: COMPLETE ---> 2014-07-07\n",
      "<Response [200]>: COMPLETE ---> 2014-07-08\n",
      "<Response [200]>: COMPLETE ---> 2014-07-09\n",
      "<Response [200]>: COMPLETE ---> 2014-07-10\n",
      "<Response [200]>: COMPLETE ---> 2014-07-11\n",
      "<Response [200]>: COMPLETE ---> 2014-07-12\n",
      "<Response [200]>: COMPLETE ---> 2014-07-13\n",
      "<Response [200]>: COMPLETE ---> 2014-07-14\n",
      "<Response [200]>: COMPLETE ---> 2014-07-15\n",
      "<Response [200]>: COMPLETE ---> 2014-07-16\n",
      "<Response [200]>: COMPLETE ---> 2014-07-17\n",
      "<Response [200]>: COMPLETE ---> 2014-07-18\n",
      "<Response [200]>: COMPLETE ---> 2014-07-19\n",
      "<Response [200]>: COMPLETE ---> 2014-07-20\n",
      "<Response [200]>: COMPLETE ---> 2014-07-21\n",
      "<Response [200]>: COMPLETE ---> 2014-07-22\n",
      "<Response [200]>: COMPLETE ---> 2014-07-23\n",
      "<Response [200]>: COMPLETE ---> 2014-07-24\n",
      "<Response [200]>: COMPLETE ---> 2014-07-25\n",
      "<Response [200]>: COMPLETE ---> 2014-07-26\n",
      "<Response [200]>: COMPLETE ---> 2014-07-27\n",
      "<Response [200]>: COMPLETE ---> 2014-07-28\n",
      "<Response [200]>: COMPLETE ---> 2014-07-29\n",
      "<Response [200]>: COMPLETE ---> 2014-07-30\n",
      "<Response [200]>: COMPLETE ---> 2014-07-31\n",
      "<Response [200]>: COMPLETE ---> 2014-08-01\n",
      "<Response [200]>: COMPLETE ---> 2014-08-02\n",
      "<Response [200]>: COMPLETE ---> 2014-08-03\n",
      "<Response [200]>: COMPLETE ---> 2014-08-04\n",
      "<Response [200]>: COMPLETE ---> 2014-08-05\n",
      "<Response [200]>: COMPLETE ---> 2014-08-06\n",
      "<Response [200]>: COMPLETE ---> 2014-08-07\n",
      "<Response [200]>: COMPLETE ---> 2014-08-08\n",
      "<Response [200]>: COMPLETE ---> 2014-08-09\n",
      "<Response [200]>: COMPLETE ---> 2014-08-10\n",
      "<Response [200]>: COMPLETE ---> 2014-08-11\n",
      "<Response [200]>: COMPLETE ---> 2014-08-12\n",
      "<Response [200]>: COMPLETE ---> 2014-08-13\n",
      "<Response [200]>: COMPLETE ---> 2014-08-14\n",
      "<Response [200]>: COMPLETE ---> 2014-08-15\n",
      "<Response [200]>: COMPLETE ---> 2014-08-16\n",
      "<Response [200]>: COMPLETE ---> 2014-08-17\n",
      "<Response [200]>: COMPLETE ---> 2014-08-18\n",
      "<Response [200]>: COMPLETE ---> 2014-08-19\n",
      "<Response [200]>: COMPLETE ---> 2014-08-20\n",
      "<Response [200]>: COMPLETE ---> 2014-08-21\n",
      "<Response [200]>: COMPLETE ---> 2014-08-22\n",
      "<Response [200]>: COMPLETE ---> 2014-08-23\n",
      "<Response [200]>: COMPLETE ---> 2014-08-24\n",
      "<Response [200]>: COMPLETE ---> 2014-08-25\n",
      "<Response [200]>: COMPLETE ---> 2014-08-26\n",
      "<Response [200]>: COMPLETE ---> 2014-08-27\n",
      "<Response [200]>: COMPLETE ---> 2014-08-28\n",
      "<Response [200]>: COMPLETE ---> 2014-08-29\n",
      "<Response [200]>: COMPLETE ---> 2014-08-30\n",
      "<Response [200]>: COMPLETE ---> 2014-08-31\n",
      "<Response [200]>: COMPLETE ---> 2014-09-01\n",
      "<Response [200]>: COMPLETE ---> 2014-09-02\n",
      "<Response [200]>: COMPLETE ---> 2014-09-03\n",
      "<Response [200]>: COMPLETE ---> 2014-09-04\n",
      "<Response [200]>: COMPLETE ---> 2014-09-05\n",
      "<Response [200]>: COMPLETE ---> 2014-09-06\n",
      "<Response [200]>: COMPLETE ---> 2014-09-07\n",
      "<Response [200]>: COMPLETE ---> 2014-09-08\n",
      "<Response [200]>: COMPLETE ---> 2014-09-09\n",
      "<Response [200]>: COMPLETE ---> 2014-09-10\n",
      "<Response [200]>: COMPLETE ---> 2014-09-11\n",
      "<Response [200]>: COMPLETE ---> 2014-09-12\n",
      "<Response [200]>: COMPLETE ---> 2014-09-13\n",
      "<Response [200]>: COMPLETE ---> 2014-09-14\n",
      "<Response [200]>: COMPLETE ---> 2014-09-15\n",
      "<Response [200]>: COMPLETE ---> 2014-09-16\n",
      "<Response [200]>: COMPLETE ---> 2014-09-17\n",
      "<Response [200]>: COMPLETE ---> 2014-09-18\n",
      "<Response [200]>: COMPLETE ---> 2014-09-19\n",
      "<Response [200]>: COMPLETE ---> 2014-09-20\n",
      "<Response [200]>: COMPLETE ---> 2014-09-21\n",
      "<Response [200]>: COMPLETE ---> 2014-09-22\n",
      "<Response [200]>: COMPLETE ---> 2014-09-23\n",
      "<Response [200]>: COMPLETE ---> 2014-09-24\n",
      "<Response [200]>: COMPLETE ---> 2014-09-25\n",
      "<Response [200]>: COMPLETE ---> 2014-09-26\n",
      "<Response [200]>: COMPLETE ---> 2014-09-27\n",
      "<Response [200]>: COMPLETE ---> 2014-09-28\n",
      "<Response [200]>: COMPLETE ---> 2014-09-29\n",
      "<Response [200]>: COMPLETE ---> 2014-09-30\n",
      "\n",
      "\n",
      " SUCCESS!!! File 'weather_data.csv' created and saved in folder 'Data'\n"
     ]
    }
   ],
   "source": [
    "# Set 'call_api = True' for the first time to create the file weather_data.csv that includes\n",
    "# weather information obtained from the Historical World Weather API.\n",
    "\n",
    "# Set 'call_api = False' if file weather_data.csv already exists.\n",
    "\n",
    "call_api = True\n",
    "\n",
    "if call_api:\n",
    "    %run api_call.ipynb\n",
    "else:\n",
    "    try:\n",
    "        weather_data = pd.read_csv(\"Data/weather_data.csv\", encoding = \"utf-8\")\n",
    "        print(\"File 'weather_data.csv' read in variable 'weather_data'\")\n",
    "    except FileNotFoundError:\n",
    "        print(\"File 'weather_data.csv' was not found.\")\n",
    "        print(\"Set 'call_api = True' to call Weather API and create weather_data.csv\")\n",
    "    "
   ]
  },
  {
   "cell_type": "markdown",
   "id": "d7712e9e",
   "metadata": {},
   "source": [
    "### Cleaning and merging\n",
    "\n",
    "Cleaning rides data and merging with weather data or reading files with data already cleaned and merged if the code was previously executed."
   ]
  },
  {
   "cell_type": "code",
   "execution_count": 3,
   "id": "e88ebcfe",
   "metadata": {},
   "outputs": [
    {
     "name": "stdout",
     "output_type": "stream",
     "text": [
      "GOOD | FILE: other-American_B01362 | ENCODING: utf-8\n",
      "GOOD | FILE: other-Carmel_B00256 | ENCODING: cp1252\n",
      "GOOD | FILE: other-Diplo_B01196 | ENCODING: cp1252\n",
      "GOOD | FILE: other-Federal_02216 | ENCODING: utf-8\n",
      "GOOD | FILE: other-Firstclass_B01536 | ENCODING: cp1252\n",
      "GOOD | FILE: other-Highclass_B01717 | ENCODING: cp1252\n",
      "GOOD | FILE: other-Prestige_B01338 | ENCODING: cp1252\n",
      "GOOD | FILE: other-Skyline_B00111 | ENCODING: utf-8\n",
      "GOOD | FILE: uber-raw-data-jul14 | ENCODING: utf-8\n",
      "GOOD | FILE: uber-raw-data-aug14 | ENCODING: utf-8\n",
      "GOOD | FILE: uber-raw-data-sep14 | ENCODING: utf-8\n",
      "\n",
      "\n",
      " SUCCESS!!! Script run until completion.\n",
      "\n",
      " Files 'rides_data.csv', 'weather_rides_df.csv', and 'weekday_df.csv' created and saved in folder 'Data'\n"
     ]
    }
   ],
   "source": [
    "# Set 'call_rides_cleaning = True' for the first time to create the files weather_rides_df.csv\n",
    "# and weekday_df.csv that include merged data of weather and rides by date and by weekday.\n",
    "\n",
    "# Set 'call_rides_cleaning = False' if files weather_rides_df.csv\n",
    "# and weekday_df.csv already exist.\n",
    "\n",
    "call_rides_cleaning = True\n",
    "\n",
    "if call_rides_cleaning:\n",
    "    %run rides_cleansing.ipynb\n",
    "else:\n",
    "    try:\n",
    "        merged_df = pd.read_csv(\"Data/rides_data.csv\", encoding = \"utf-8\")\n",
    "        weather_rides = pd.read_csv(\"Data/weather_rides_df.csv\", encoding = \"utf-8\")\n",
    "        weekday_df = pd.read_csv(\"Data/weekday_df.csv\", encoding = \"utf-8\")\n",
    "        print(\"File 'rides_data.csv' read in variable 'merged_df'\")\n",
    "        print(\"File 'weather_rides_df.csv' read in variable 'weather_rides'\")\n",
    "        print(\"File 'weekday_df.csv' read in variable 'weekday_df'\")\n",
    "    except FileNotFoundError:\n",
    "        print(\"Files 'rides_data.csv', 'weather_rides_df.csv', and 'weekday_df.csv' missing.\")\n",
    "        print(\"Set 'call_rides_cleaning = True' to generate them.\")"
   ]
  },
  {
   "cell_type": "markdown",
   "id": "95785035",
   "metadata": {},
   "source": [
    "### Plotting"
   ]
  },
  {
   "cell_type": "code",
   "execution_count": null,
   "id": "71796662",
   "metadata": {},
   "outputs": [],
   "source": []
  }
 ],
 "metadata": {
  "kernelspec": {
   "display_name": "Python [conda env:bootcamp_env] *",
   "language": "python",
   "name": "conda-env-bootcamp_env-py"
  },
  "language_info": {
   "codemirror_mode": {
    "name": "ipython",
    "version": 3
   },
   "file_extension": ".py",
   "mimetype": "text/x-python",
   "name": "python",
   "nbconvert_exporter": "python",
   "pygments_lexer": "ipython3",
   "version": "3.6.13"
  }
 },
 "nbformat": 4,
 "nbformat_minor": 5
}
